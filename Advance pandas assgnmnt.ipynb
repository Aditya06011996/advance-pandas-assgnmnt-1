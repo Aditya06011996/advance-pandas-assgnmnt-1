{
 "cells": [
  {
   "cell_type": "markdown",
   "id": "22ed57db-d2e0-4c35-a891-311f88845461",
   "metadata": {},
   "source": [
    "Q 1 List any five functions of the pandas library with execution."
   ]
  },
  {
   "cell_type": "markdown",
   "id": "ca845fa0-9074-4728-a632-2c1626583054",
   "metadata": {},
   "source": [
    "Ans - Sure! Here are five functions from the pandas library along with their execution examples:\n",
    "\n",
    "(1) read_csv(): This function is used to read data from a CSV file and create a DataFrame."
   ]
  },
  {
   "cell_type": "code",
   "execution_count": null,
   "id": "7339217d-abd7-4d8f-892b-74c033b09b4b",
   "metadata": {},
   "outputs": [],
   "source": [
    "import pandas as pd\n",
    "\n",
    "# Reading data from a CSV file and creating a DataFrame\n",
    "df = pd.read_csv('data.csv')\n",
    "\n",
    "# Print the first few rows of the DataFrame\n",
    "print(df.head())\n"
   ]
  },
  {
   "cell_type": "markdown",
   "id": "954651f3-0554-4dda-a0e2-802479d75188",
   "metadata": {},
   "source": [
    "(2) groupby(): This function is used to group data based on one or more columns and perform aggregate operations on the groups."
   ]
  },
  {
   "cell_type": "code",
   "execution_count": null,
   "id": "17021f06-8c08-4e33-9013-db3e7479e358",
   "metadata": {},
   "outputs": [],
   "source": [
    "import pandas as pd\n",
    "\n",
    "# Assuming df is a DataFrame containing 'Name', 'Age', and 'Score' columns\n",
    "\n",
    "# Group data by 'Age' and calculate the average 'Score' for each age group\n",
    "grouped_df = df.groupby('Age')['Score'].mean()\n",
    "\n",
    "# Print the result\n",
    "print(grouped_df)\n"
   ]
  },
  {
   "cell_type": "markdown",
   "id": "ab48a81a-c8a2-43df-86cc-22b98b18bcdd",
   "metadata": {},
   "source": [
    "(3) merge(): This function is used to merge two DataFrames based on a common key or index."
   ]
  },
  {
   "cell_type": "code",
   "execution_count": null,
   "id": "4a23e0e5-2ff7-4e1f-b4a7-4041af73267a",
   "metadata": {},
   "outputs": [],
   "source": [
    "import pandas as pd\n",
    "\n",
    "# Assuming df1 and df2 are two DataFrames with a common column 'ID'\n",
    "\n",
    "# Merge the DataFrames on the 'ID' column\n",
    "merged_df = pd.merge(df1, df2, on='ID')\n",
    "\n",
    "# Print the merged DataFrame\n",
    "print(merged_df)\n"
   ]
  },
  {
   "cell_type": "markdown",
   "id": "08d9cb25-5402-4293-809d-6438c734a049",
   "metadata": {},
   "source": [
    "(4) pivot_table(): This function is used to create a pivot table from a DataFrame"
   ]
  },
  {
   "cell_type": "code",
   "execution_count": null,
   "id": "4224bff2-c891-4f3f-a23b-61f0f321e2b1",
   "metadata": {},
   "outputs": [],
   "source": [
    "import pandas as pd\n",
    "\n",
    "# Assuming df is a DataFrame containing 'Name', 'Age', 'Score', and 'Grade' columns\n",
    "\n",
    "# Create a pivot table with 'Age' as rows, 'Grade' as columns, and 'Score' as values\n",
    "pivot_table = df.pivot_table(index='Age', columns='Grade', values='Score', aggfunc='mean')\n",
    "\n",
    "# Print the pivot table\n",
    "print(pivot_table)\n"
   ]
  },
  {
   "cell_type": "markdown",
   "id": "98061ccf-9f68-48be-a925-5c2219233be6",
   "metadata": {},
   "source": [
    "(5) drop_duplicates(): This function is used to remove duplicate rows from a DataFrame."
   ]
  },
  {
   "cell_type": "code",
   "execution_count": null,
   "id": "d9a9aa5a-ebec-48ee-97db-51b28ee46f2f",
   "metadata": {},
   "outputs": [],
   "source": [
    "import pandas as pd\n",
    "\n",
    "# Assuming df is a DataFrame with possible duplicate rows\n",
    "\n",
    "# Drop duplicate rows based on all columns\n",
    "deduplicated_df = df.drop_duplicates()\n",
    "\n",
    "# Print the DataFrame after removing duplicates\n",
    "print(deduplicated_df)\n"
   ]
  },
  {
   "cell_type": "markdown",
   "id": "a986cb04-9b59-4ff1-8982-94f45c3ac745",
   "metadata": {},
   "source": [
    "Q 2 Given a Pandas DataFrame df with columns 'A', \"B', and 'C',write a Python function to re-index the DataFrame with a new index that starts from 1 and increments by 2 for each row."
   ]
  },
  {
   "cell_type": "markdown",
   "id": "b8a1104b-fee9-4ace-be55-d8b2ecdac336",
   "metadata": {},
   "source": [
    "Ans - To re-index the DataFrame with a new index that starts from 1 and increments by 2 for each row, you can use the reset_index() function in pandas along with some additional steps. Here's a Python function that achieves this:"
   ]
  },
  {
   "cell_type": "code",
   "execution_count": 3,
   "id": "7b02d526-1748-48bd-ad64-2377e8807503",
   "metadata": {},
   "outputs": [
    {
     "name": "stdout",
     "output_type": "stream",
     "text": [
      "            A    B     C\n",
      "new_index               \n",
      "1          10  100  1000\n",
      "3          20  200  2000\n",
      "5          30  300  3000\n",
      "7          40  400  4000\n"
     ]
    }
   ],
   "source": [
    "import pandas as pd\n",
    "\n",
    "def reindex_dataframe(df):\n",
    "    # Reset the existing index to default integer index\n",
    "    df_reset = df.reset_index(drop=True)\n",
    "\n",
    "    # Create a new index starting from 1 and incrementing by 2 for each row\n",
    "    new_index = pd.Series(range(1, len(df_reset)*2, 2))\n",
    "\n",
    "    # Assign the new index to the DataFrame\n",
    "    df_reset['new_index'] = new_index\n",
    "\n",
    "    # Set the new index as the index of the DataFrame\n",
    "    df_reset.set_index('new_index', inplace=True)\n",
    "\n",
    "    return df_reset\n",
    "\n",
    "# Example DataFrame with columns 'A', 'B', and 'C'\n",
    "data = {\n",
    "    'A': [10, 20, 30, 40],\n",
    "    'B': [100, 200, 300, 400],\n",
    "    'C': [1000, 2000, 3000, 4000]\n",
    "}\n",
    "df = pd.DataFrame(data)\n",
    "\n",
    "# Call the reindex_dataframe function and print the result\n",
    "df_reindexed = reindex_dataframe(df)\n",
    "print(df_reindexed)\n"
   ]
  },
  {
   "cell_type": "markdown",
   "id": "adac1a28-bbac-4f66-bba0-4e031a189e12",
   "metadata": {},
   "source": [
    "In this function, we first reset the existing index of the DataFrame using reset_index(drop=True), which creates a default integer index starting from 0. Then, we create a new index using pd.Series(range(1, len(df_reset)*2, 2)), which generates a Series of numbers starting from 1 and incrementing by 2 for each row.\n",
    "\n",
    "Next, we add the new index as a new column to the DataFrame (df_reset['new_index'] = new_index) and set it as the index of the DataFrame using df_reset.set_index('new_index', inplace=True).\n",
    "\n",
    "The final result is the DataFrame with the new index starting from 1 and incremented by 2 for each row."
   ]
  },
  {
   "cell_type": "markdown",
   "id": "85d54cce-0d4f-4630-a023-8dce7cbea1b3",
   "metadata": {},
   "source": [
    "Q 3 You have a Pandas DataFrame df with a column named 'Values'. Write a Python function that iterates over the DataFrame and calculates the sum of the first three values in the 'Values' column. The function should print the sum to the console."
   ]
  },
  {
   "cell_type": "markdown",
   "id": "0741fd79-a6ed-4c8e-a455-9a3bd5c4b4ab",
   "metadata": {},
   "source": [
    "Ans - You can achieve this without explicitly iterating over the DataFrame using the pandas built-in functions. The pandas library provides vectorized operations, which are generally more efficient and faster than explicit iteration. Here's how you can calculate the sum of the first three values in the 'Values' column without explicit iteration:"
   ]
  },
  {
   "cell_type": "code",
   "execution_count": 4,
   "id": "bca36fa2-528c-47f4-9162-45d36d59fa58",
   "metadata": {},
   "outputs": [
    {
     "name": "stdout",
     "output_type": "stream",
     "text": [
      "Sum of the first three values: 60\n"
     ]
    }
   ],
   "source": [
    "import pandas as pd\n",
    "\n",
    "def calculate_sum_of_first_three(df):\n",
    "    # Calculate the sum of the first three values in the 'Values' column\n",
    "    sum_first_three = df['Values'].head(3).sum()\n",
    "\n",
    "    # Print the sum to the console\n",
    "    print(\"Sum of the first three values:\", sum_first_three)\n",
    "\n",
    "# Example DataFrame with a 'Values' column\n",
    "data = {\n",
    "    'Values': [10, 20, 30, 40, 50]\n",
    "}\n",
    "df = pd.DataFrame(data)\n",
    "\n",
    "# Call the calculate_sum_of_first_three function\n",
    "calculate_sum_of_first_three(df)\n"
   ]
  },
  {
   "cell_type": "markdown",
   "id": "ac7d620b-b10b-47e4-96ac-a8afca65602c",
   "metadata": {},
   "source": [
    "In this function, we use the pandas head(3) method to select the first three rows from the 'Values' column and then use the .sum() method to calculate their sum. This approach is more concise, efficient, and idiomatic in pandas, avoiding the need for explicit iteration.\n",
    "\n",
    "\n",
    "\n",
    "\n"
   ]
  },
  {
   "cell_type": "markdown",
   "id": "8e3175c3-f988-413a-9cc0-989290ac4f4d",
   "metadata": {},
   "source": [
    "Q 4 Given a Pandas DataFrame df with a column 'Text', write a Python function to create a new column 'Word_Count' that contains the number of words in each row of the 'Text' column."
   ]
  },
  {
   "cell_type": "code",
   "execution_count": null,
   "id": "1ea30bd5-f537-47cf-8610-7a51c49a23d1",
   "metadata": {},
   "outputs": [],
   "source": [
    "import pandas as pd\n",
    "import re\n",
    "\n",
    "def count_words(text):\n",
    "    words = re.findall(r'\\w+', text)\n",
    "    return len(words)\n",
    "\n",
    "def add_word_count_column(df):\n",
    "    df['Word_Count'] = df['Text'].apply(count_words)\n",
    "    return df\n",
    "\n",
    "# Example DataFrame\n",
    "data = {'Text': [\"This is a sample text.\", \"Hello, how are you?\", \"Python programming is fun!\"]}\n",
    "df = pd.DataFrame(data)\n",
    "\n",
    "# Add word count column\n",
    "df = add_word_count_column(df)\n",
    "\n",
    "print(df)\n"
   ]
  },
  {
   "cell_type": "markdown",
   "id": "a0214fa4-91e3-40d0-8d44-d7fca94c5367",
   "metadata": {},
   "source": [
    "In this example, the count_words function uses regular expressions to split the input text into words and then calculates the length of the resulting list of words. The add_word_count_column function applies the count_words function to each row in the 'Text' column of the DataFrame and adds a new column 'Word_Count' with the calculated word counts."
   ]
  },
  {
   "cell_type": "markdown",
   "id": "779ab8ff-3256-4b94-9a30-6742f5710b2a",
   "metadata": {},
   "source": [
    "Q 5 How are DataFrame.size() and DataFrame.shape() different?"
   ]
  },
  {
   "cell_type": "markdown",
   "id": "43151202-b3b2-4356-aea2-5096d8e2658c",
   "metadata": {},
   "source": [
    "Ans - Both DataFrame.size and DataFrame.shape are attributes in Pandas DataFrames, but they provide different information about the structure of the DataFrame.\n",
    "\n",
    "(1) DataFrame.size:\n",
    "* DataFrame.size returns the total number of elements in the DataFrame, which is calculated as the product of the number of rows and the number of columns.\n",
    "* It gives you the total count of cells in the DataFrame, including empty cells or cells containing missing values (NaN).\n",
    "\n",
    "Example:"
   ]
  },
  {
   "cell_type": "code",
   "execution_count": null,
   "id": "69a9aab4-371b-4e34-a5ea-6a6f3450a5c1",
   "metadata": {},
   "outputs": [],
   "source": [
    "import pandas as pd\n",
    "\n",
    "data = {'A': [1, 2, 3], 'B': [4, 5, 6]}\n",
    "df = pd.DataFrame(data)\n",
    "\n",
    "total_elements = df.size\n",
    "print(total_elements)  # Output: 6 (3 rows * 2 columns)\n"
   ]
  },
  {
   "cell_type": "markdown",
   "id": "abbf2f28-12f6-4037-95f7-54a0d46560fc",
   "metadata": {},
   "source": [
    "(2) DataFrame.shape:\n",
    "* DataFrame.shape returns a tuple representing the dimensions of the DataFrame. The tuple contains two elements: the number of rows and the number of columns.\n",
    "* It provides the actual structure of the DataFrame in terms of rows and columns.\n",
    "\n",
    "Example:"
   ]
  },
  {
   "cell_type": "code",
   "execution_count": null,
   "id": "c550599e-acc0-4b41-b000-b3344df5e14e",
   "metadata": {},
   "outputs": [],
   "source": [
    "import pandas as pd\n",
    "\n",
    "data = {'A': [1, 2, 3], 'B': [4, 5, 6]}\n",
    "df = pd.DataFrame(data)\n",
    "\n",
    "num_rows, num_columns = df.shape\n",
    "print(num_rows, num_columns)  # Output: 3, 2\n"
   ]
  },
  {
   "cell_type": "markdown",
   "id": "8b26b9d2-589e-407b-a353-af53ada7ce81",
   "metadata": {},
   "source": [
    "In summary, DataFrame.size gives you the total count of elements (cells) in the DataFrame, while DataFrame.shape gives you the dimensions of the DataFrame in terms of rows and columns."
   ]
  },
  {
   "cell_type": "markdown",
   "id": "1d0bb928-abd3-4cdb-a724-75e12f7392be",
   "metadata": {},
   "source": [
    "Q 6 Which function of pandas do we use to read an excel file?"
   ]
  },
  {
   "cell_type": "markdown",
   "id": "e35ed68e-5f77-4c78-9a1d-b42db71250d7",
   "metadata": {},
   "source": [
    "Ans - In Pandas, you can use the pd.read_excel() function to read data from an Excel file into a DataFrame. This function allows you to read data from Excel files with various formats, including .xls and .xlsx.\n",
    "\n",
    "Here's how you can use the pd.read_excel() function:"
   ]
  },
  {
   "cell_type": "code",
   "execution_count": null,
   "id": "ad794008-e19f-4f18-99dc-0e64b983fb49",
   "metadata": {},
   "outputs": [],
   "source": [
    "import pandas as pd\n",
    "\n",
    "# Read an Excel file into a DataFrame\n",
    "df = pd.read_excel('file_path.xlsx')\n",
    "\n",
    "# Display the DataFrame\n",
    "print(df)\n"
   ]
  },
  {
   "cell_type": "markdown",
   "id": "de75cc73-d41a-47ae-86e4-d214c3b7bb2a",
   "metadata": {},
   "source": [
    "In the above code, replace 'file_path.xlsx' with the actual path to your Excel file. The function will read the data from the specified Excel file and create a DataFrame containing the data.\n",
    "\n",
    "Additionally, the pd.read_excel() function provides various optional parameters that allow you to customize how the data is read, such as specifying the sheet name, skipping rows, selecting columns, handling headers, and more. You can refer to the official Pandas documentation for pd.read_excel() for more details on the available options: pd.read_excel() documentation.\n",
    "\n",
    "\n",
    "\n",
    "\n"
   ]
  },
  {
   "cell_type": "markdown",
   "id": "91f8ddb1-2a86-405a-8854-111a69d0e382",
   "metadata": {},
   "source": [
    "Q 7 You have a Pandas DataFrame df that contains a column named 'Email' that contains email addresses in the format 'username@domain.com'. Write a Python function that creates a new column 'Username' in df that contains only the username part of each email address.\n",
    "\n",
    "The username is the part of the email address that appears before the '@' symbol. For example, if the email address is 'john.doe@example.com', the 'Username' column should contain 'john.doe'. Your function should extract the username from each email address and store it in the new 'Username' column."
   ]
  },
  {
   "cell_type": "markdown",
   "id": "c99b34f4-d70f-4e23-aeb7-9b22658648e1",
   "metadata": {},
   "source": [
    "Ans - Certainly! You can achieve this using the Pandas library and the .str accessor for string operations. Here's a Python function that does exactly what you've described:"
   ]
  },
  {
   "cell_type": "code",
   "execution_count": null,
   "id": "bad6eb5d-5454-46c9-a64e-9bf7aac73edc",
   "metadata": {},
   "outputs": [],
   "source": [
    "import pandas as pd\n",
    "\n",
    "def extract_username(email):\n",
    "    return email.split('@')[0]\n",
    "\n",
    "def add_username_column(df):\n",
    "    df['Username'] = df['Email'].apply(extract_username)\n",
    "    return df\n",
    "\n",
    "# Example DataFrame\n",
    "data = {'Email': ['john.doe@example.com', 'jane.smith@example.com', 'alice.wonderland@example.com']}\n",
    "df = pd.DataFrame(data)\n",
    "\n",
    "# Add 'Username' column\n",
    "df = add_username_column(df)\n",
    "\n",
    "print(df)\n"
   ]
  },
  {
   "cell_type": "markdown",
   "id": "6124d91b-6254-4474-9cff-33592aa8fc2b",
   "metadata": {},
   "source": [
    "In this example, the extract_username function splits each email address at the '@' symbol and retrieves the part before it (i.e., the username). The add_username_column function applies this extraction to each row in the 'Email' column and creates a new 'Username' column containing the extracted usernames."
   ]
  },
  {
   "cell_type": "markdown",
   "id": "6310fa15-6544-4f03-930d-208d3110d929",
   "metadata": {},
   "source": [
    "Q 8 You have a Pandas DataFrame df with columns 'A','B', and 'C'. Write a Python function that selects all rows where the value in column 'A' is greater than 5 and the value in column 'B' is less than 10. The function should return a new DataFrame that contains only the selected rows."
   ]
  },
  {
   "cell_type": "markdown",
   "id": "d3bef02e-f823-408f-8734-fbd7f7ff648a",
   "metadata": {},
   "source": [
    "Ans - Certainly! You can use boolean indexing to filter the DataFrame based on the specified conditions. Here's a Python function that does what you've described:"
   ]
  },
  {
   "cell_type": "code",
   "execution_count": null,
   "id": "e24aec42-8e79-4aca-aa85-a669c95c547f",
   "metadata": {},
   "outputs": [],
   "source": [
    "import pandas as pd\n",
    "\n",
    "def filter_rows(df):\n",
    "    selected_rows = df[(df['A'] > 5) & (df['B'] < 10)]\n",
    "    return selected_rows\n",
    "\n",
    "# Example DataFrame\n",
    "data = {'A': [3, 8, 6, 4, 9],\n",
    "        'B': [12, 5, 8, 3, 7],\n",
    "        'C': [0.5, 0.8, 0.6, 0.4, 0.9]}\n",
    "\n",
    "df = pd.DataFrame(data)\n",
    "\n",
    "# Select rows based on conditions\n",
    "selected_df = filter_rows(df)\n",
    "\n",
    "print(selected_df)\n"
   ]
  },
  {
   "cell_type": "markdown",
   "id": "1eba2a8c-c3b1-44e6-9273-6c63dd1d4644",
   "metadata": {},
   "source": [
    "In this example, the filter_rows function applies boolean indexing to the DataFrame df. It selects the rows where the value in column 'A' is greater than 5 and the value in column 'B' is less than 10, and then returns a new DataFrame containing only these selected rows."
   ]
  },
  {
   "cell_type": "markdown",
   "id": "8e6e639f-65bf-425b-a211-4e1e19d1aa38",
   "metadata": {},
   "source": [
    "Q 9 Given a Pandas DataFrame df with a column 'Values', write a Python function to calculate the mean, median, and standard deviation of the values in the 'Values' column."
   ]
  },
  {
   "cell_type": "markdown",
   "id": "45e4cd13-5f6f-49ac-b64a-3beae33345fc",
   "metadata": {},
   "source": [
    "Ans - Certainly! You can use the Pandas library to easily calculate the mean, median, and standard deviation of the values in the 'Values' column of your DataFrame. Here's a Python function that does this:"
   ]
  },
  {
   "cell_type": "code",
   "execution_count": null,
   "id": "628eadc2-1b09-4ba8-95c5-a62718d0d32b",
   "metadata": {},
   "outputs": [],
   "source": [
    "import pandas as pd\n",
    "\n",
    "def calculate_statistics(df):\n",
    "    mean_value = df['Values'].mean()\n",
    "    median_value = df['Values'].median()\n",
    "    std_deviation = df['Values'].std()\n",
    "    return mean_value, median_value, std_deviation\n",
    "\n",
    "# Example DataFrame\n",
    "data = {'Values': [10, 15, 20, 25, 30]}\n",
    "df = pd.DataFrame(data)\n",
    "\n",
    "# Calculate statistics\n",
    "mean, median, std = calculate_statistics(df)\n",
    "\n",
    "print(\"Mean:\", mean)\n",
    "print(\"Median:\", median)\n",
    "print(\"Standard Deviation:\", std)\n"
   ]
  },
  {
   "cell_type": "markdown",
   "id": "98112317-daf3-4cb4-8487-8e9a4da669d2",
   "metadata": {},
   "source": [
    "Replace the data dictionary with your actual data if needed. The calculate_statistics function calculates the mean, median, and standard deviation of the 'Values' column using Pandas' built-in functions. The example DataFrame contains values [10, 15, 20, 25, 30], so the printed output will show the calculated statistics for these values."
   ]
  },
  {
   "cell_type": "markdown",
   "id": "12d82186-1931-4391-a4e5-912c7d12288c",
   "metadata": {},
   "source": [
    "Q 10 Given a Pandas DataFrame df with a column 'Sales' and a column 'Date', write a Python function to create a new column 'MovingAverage' that contains the moving average of the sales for the past 7 days for each row in the DataFrame. The moving average should be calculated using a window of size 7 and should include the current day."
   ]
  },
  {
   "cell_type": "markdown",
   "id": "542459fd-1e51-4b2c-98ae-ad4edd36d4fb",
   "metadata": {},
   "source": [
    "Ans - Certainly! You can use the rolling() function provided by Pandas to calculate the moving average for the past 7 days. Here's a Python function that adds a new 'MovingAverage' column to the DataFrame containing the moving average of 'Sales' over a 7-day window:"
   ]
  },
  {
   "cell_type": "code",
   "execution_count": null,
   "id": "228fd19c-f82e-465d-8286-0847dd24b87d",
   "metadata": {},
   "outputs": [],
   "source": [
    "import pandas as pd\n",
    "\n",
    "def calculate_moving_average(df, window_size=7):\n",
    "    df['MovingAverage'] = df['Sales'].rolling(window=window_size, min_periods=1).mean()\n",
    "    return df\n",
    "\n",
    "# Example DataFrame\n",
    "data = {'Date': pd.date_range(start='2023-07-01', periods=15, freq='D'),\n",
    "        'Sales': [10, 15, 20, 25, 30, 35, 40, 45, 50, 55, 60, 65, 70, 75, 80]}\n",
    "df = pd.DataFrame(data)\n",
    "\n",
    "# Calculate and add moving average\n",
    "df = calculate_moving_average(df)\n",
    "\n",
    "print(df)\n"
   ]
  },
  {
   "cell_type": "markdown",
   "id": "2a547790-4ebd-4288-8aab-e786aa9229d0",
   "metadata": {},
   "source": [
    "In this example, the calculate_moving_average function adds a new 'MovingAverage' column to the DataFrame. The rolling() function is used with a window size of 7 and min_periods=1 to calculate the moving average for the 'Sales' column. The min_periods=1 parameter ensures that even if there are fewer than 7 days of data available for the moving average calculation, it still provides a result. The resulting DataFrame will contain the moving average values for each row, calculated over the past 7 days, including the current day.\n",
    "\n",
    "\n",
    "\n",
    "\n"
   ]
  },
  {
   "cell_type": "markdown",
   "id": "0f5e6903-3fde-41b7-87c8-62a12497128f",
   "metadata": {},
   "source": [
    "Q 11 You have a Pandas DataFrame df with a column 'Date'. Write a Python function that creates a new column 'Weekday' in the DataFrame. The 'Weekday' column should should contain the weekday name (e.g. Monday , Tuesday) corresponding to each date in the 'Date' column.\n",
    "\n",
    "For example, if df contains the following values:\n",
    "\n",
    "  Date\n",
    "  \n",
    "0 2023-01-01\n",
    "1 2023-01-02\n",
    "2 2023-01-03\n",
    "3 2023-01-04\n",
    "4 2023-01-05\n",
    "\n",
    "Your function should create the following DataFrame:\n",
    "\n",
    "    Date          Weekday\n",
    "    \n",
    "0  2023-01-01     Sunday\n",
    "1  2023-01-02     Monday\n",
    "2  2023-01-03     Tuesday\n",
    "3  2023-01-04     Wednesday\n",
    "4  2023-01-05     Thursday\n",
    "\n",
    "The function should return the modified DataFrame."
   ]
  },
  {
   "cell_type": "markdown",
   "id": "60ac89c2-ee49-4297-b1d2-8edc4f6fca24",
   "metadata": {},
   "source": [
    "You can achieve this using the Pandas library and the .dt accessor to extract the weekday name from the 'Date' column. Here's a Python function that adds a new 'Weekday' column to the DataFrame with the corresponding weekday names:"
   ]
  },
  {
   "cell_type": "code",
   "execution_count": null,
   "id": "fb83344a-515b-4136-a2b4-02a695c11f71",
   "metadata": {},
   "outputs": [],
   "source": [
    "import pandas as pd\n",
    "\n",
    "def add_weekday_column(df):\n",
    "    df['Weekday'] = df['Date'].dt.strftime('%A')\n",
    "    return df\n",
    "\n",
    "# Example DataFrame\n",
    "data = {'Date': pd.to_datetime(['2023-01-01', '2023-01-02', '2023-01-03', '2023-01-04', '2023-01-05'])}\n",
    "df = pd.DataFrame(data)\n",
    "\n",
    "# Add 'Weekday' column\n",
    "df = add_weekday_column(df)\n",
    "\n",
    "print(df)\n"
   ]
  },
  {
   "cell_type": "markdown",
   "id": "c6eded01-aa67-4c2e-b873-185cdc5dd33f",
   "metadata": {},
   "source": [
    "In this example, the add_weekday_column function adds a new 'Weekday' column to the DataFrame. The .dt.strftime('%A') method is used to extract the weekday name from the 'Date' column and format it as the full weekday name (e.g., 'Sunday', 'Monday', etc.). The resulting DataFrame will have the 'Weekday' column containing the corresponding weekday names for each date in the 'Date' column.\n",
    "\n",
    "\n",
    "\n",
    "\n"
   ]
  },
  {
   "cell_type": "markdown",
   "id": "1e645cb7-979d-4b79-bfea-51dcc0685c62",
   "metadata": {},
   "source": [
    "Q 12 Given a Pandas DataFrame df with a column 'Date' that contains timestamps, write a Python function to select all rows where the date is between '2023-01-01' and '2023-01-31'"
   ]
  },
  {
   "cell_type": "markdown",
   "id": "8112c6cf-dd87-4ca5-85d7-816192cd3b7f",
   "metadata": {},
   "source": [
    "Ans - You can use boolean indexing in Pandas to filter rows based on a date range. Here's a Python function that selects rows from the DataFrame where the date is between '2023-01-01' and '2023-01-31':\n"
   ]
  },
  {
   "cell_type": "code",
   "execution_count": null,
   "id": "b6956aa4-8e4b-4654-892e-71f1b0ec75c7",
   "metadata": {},
   "outputs": [],
   "source": [
    "import pandas as pd\n",
    "\n",
    "def filter_date_range(df):\n",
    "    start_date = '2023-01-01'\n",
    "    end_date = '2023-01-31'\n",
    "    mask = (df['Date'] >= start_date) & (df['Date'] <= end_date)\n",
    "    selected_rows = df[mask]\n",
    "    return selected_rows\n",
    "\n",
    "# Example DataFrame\n",
    "data = {'Date': pd.to_datetime(['2023-01-01', '2023-01-15', '2023-02-05', '2023-01-20', '2023-01-31'])}\n",
    "df = pd.DataFrame(data)\n",
    "\n",
    "# Select rows within the date range\n",
    "selected_df = filter_date_range(df)\n",
    "\n",
    "print(selected_df)\n"
   ]
  },
  {
   "cell_type": "markdown",
   "id": "81d3557f-70ab-411a-b349-ff917a7107fd",
   "metadata": {},
   "source": [
    "In this example, the 'filter_date_range' function uses boolean indexing to create a mask that checks if the date is between '2023-01-01' and '2023-01-31'. The resulting mask is then used to select the rows that satisfy this condition, and the function returns a new DataFrame 'selected_df' containing only these selected rows."
   ]
  },
  {
   "cell_type": "markdown",
   "id": "71a2de30-0996-47d3-97cf-15b36925a613",
   "metadata": {},
   "source": [
    "Q 13 To use the basic functions of pandas, what is the first and foremost necessary library that needs to be imported?"
   ]
  },
  {
   "cell_type": "code",
   "execution_count": null,
   "id": "cb7432de-74f3-48d6-aec9-7946f1ce5150",
   "metadata": {},
   "outputs": [],
   "source": [
    "Ans -"
   ]
  }
 ],
 "metadata": {
  "kernelspec": {
   "display_name": "Python 3 (ipykernel)",
   "language": "python",
   "name": "python3"
  },
  "language_info": {
   "codemirror_mode": {
    "name": "ipython",
    "version": 3
   },
   "file_extension": ".py",
   "mimetype": "text/x-python",
   "name": "python",
   "nbconvert_exporter": "python",
   "pygments_lexer": "ipython3",
   "version": "3.10.8"
  }
 },
 "nbformat": 4,
 "nbformat_minor": 5
}
